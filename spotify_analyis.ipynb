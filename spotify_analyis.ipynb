{
 "cells": [
  {
   "cell_type": "markdown",
   "metadata": {},
   "source": [
    "### SPOTIFY FEATURES DATASET XPLORE USING PANDAS AND MATPLOTLIB"
   ]
  },
  {
   "cell_type": "code",
   "execution_count": 52,
   "metadata": {},
   "outputs": [],
   "source": [
    "import pandas as pd\n",
    "import matplotlib.pyplot as plt"
   ]
  },
  {
   "cell_type": "code",
   "execution_count": 2,
   "metadata": {},
   "outputs": [
    {
     "name": "stdout",
     "output_type": "stream",
     "text": [
      "<class 'pandas.core.frame.DataFrame'>\n",
      "RangeIndex: 232725 entries, 0 to 232724\n",
      "Data columns (total 18 columns):\n",
      " #   Column            Non-Null Count   Dtype  \n",
      "---  ------            --------------   -----  \n",
      " 0   genre             232725 non-null  object \n",
      " 1   artist_name       232725 non-null  object \n",
      " 2   track_name        232724 non-null  object \n",
      " 3   track_id          232725 non-null  object \n",
      " 4   popularity        232725 non-null  int64  \n",
      " 5   acousticness      232725 non-null  float64\n",
      " 6   danceability      232725 non-null  float64\n",
      " 7   duration_ms       232725 non-null  int64  \n",
      " 8   energy            232725 non-null  float64\n",
      " 9   instrumentalness  232725 non-null  float64\n",
      " 10  key               232725 non-null  object \n",
      " 11  liveness          232725 non-null  float64\n",
      " 12  loudness          232725 non-null  float64\n",
      " 13  mode              232725 non-null  object \n",
      " 14  speechiness       232725 non-null  float64\n",
      " 15  tempo             232725 non-null  float64\n",
      " 16  time_signature    232725 non-null  object \n",
      " 17  valence           232725 non-null  float64\n",
      "dtypes: float64(9), int64(2), object(7)\n",
      "memory usage: 32.0+ MB\n"
     ]
    }
   ],
   "source": [
    "path = \"SpotifyFeatures.csv\"\n",
    "df = pd.read_csv(path)\n",
    "df.info()"
   ]
  },
  {
   "cell_type": "markdown",
   "metadata": {},
   "source": [
    "1. How many unique genres are there?"
   ]
  },
  {
   "cell_type": "code",
   "execution_count": 3,
   "metadata": {},
   "outputs": [
    {
     "name": "stdout",
     "output_type": "stream",
     "text": [
      "There are 27 unique genres.\n"
     ]
    },
    {
     "data": {
      "text/plain": [
       "array(['Movie', 'R&B', 'A Capella', 'Alternative', 'Country', 'Dance',\n",
       "       'Electronic', 'Anime', 'Folk', 'Blues', 'Opera', 'Hip-Hop',\n",
       "       \"Children's Music\", 'Children’s Music', 'Rap', 'Indie',\n",
       "       'Classical', 'Pop', 'Reggae', 'Reggaeton', 'Jazz', 'Rock', 'Ska',\n",
       "       'Comedy', 'Soul', 'Soundtrack', 'World'], dtype=object)"
      ]
     },
     "execution_count": 3,
     "metadata": {},
     "output_type": "execute_result"
    }
   ],
   "source": [
    "res = df['genre'].nunique()\n",
    "print(f\"There are {res} unique genres.\")\n",
    "df['genre'].unique()"
   ]
  },
  {
   "cell_type": "markdown",
   "metadata": {},
   "source": [
    "2. What are the top 5 most popular genres?"
   ]
  },
  {
   "cell_type": "code",
   "execution_count": 4,
   "metadata": {},
   "outputs": [
    {
     "name": "stdout",
     "output_type": "stream",
     "text": [
      "These are the top 5 most popular genres.\n"
     ]
    },
    {
     "data": {
      "text/plain": [
       "genre\n",
       "Pop        66.59\n",
       "Rap        60.53\n",
       "Rock       59.62\n",
       "Hip-Hop    58.42\n",
       "Dance      57.28\n",
       "Name: popularity, dtype: float64"
      ]
     },
     "execution_count": 4,
     "metadata": {},
     "output_type": "execute_result"
    }
   ],
   "source": [
    "print(\"These are the top 5 most popular genres.\")\n",
    "popular_genre = df.groupby('genre')['popularity'].mean().sort_values(ascending=False).head(5)\n",
    "round(popular_genre,2)"
   ]
  },
  {
   "cell_type": "markdown",
   "metadata": {},
   "source": [
    "3. What is the distribution of song durations?"
   ]
  },
  {
   "cell_type": "code",
   "execution_count": null,
   "metadata": {},
   "outputs": [],
   "source": []
  },
  {
   "cell_type": "markdown",
   "metadata": {},
   "source": [
    "4. What is the average popularity of songs?"
   ]
  },
  {
   "cell_type": "code",
   "execution_count": 7,
   "metadata": {},
   "outputs": [
    {
     "name": "stdout",
     "output_type": "stream",
     "text": [
      "Average poplarity of songs : 41.1275\n"
     ]
    }
   ],
   "source": [
    "avg_popularity = df['popularity'].mean()\n",
    "print(f\"Average poplarity of songs : {round(avg_popularity,4)}\")"
   ]
  },
  {
   "cell_type": "markdown",
   "metadata": {},
   "source": [
    "5. How many songs have high energy (energy > 0.8)?"
   ]
  },
  {
   "cell_type": "code",
   "execution_count": 8,
   "metadata": {},
   "outputs": [
    {
     "name": "stdout",
     "output_type": "stream",
     "text": [
      "53949 High Energy songs.\n"
     ]
    }
   ],
   "source": [
    "high_enrgy_songs = df[df['energy'] > 0.8]\n",
    "print(f\"{high_enrgy_songs.shape[0]} High Energy songs.\")"
   ]
  },
  {
   "cell_type": "markdown",
   "metadata": {},
   "source": [
    "6. What is the correlation between loudness and energy?"
   ]
  },
  {
   "cell_type": "code",
   "execution_count": null,
   "metadata": {},
   "outputs": [],
   "source": []
  },
  {
   "cell_type": "markdown",
   "metadata": {},
   "source": [
    "7. What are the top 5 artists with the most tracks?"
   ]
  },
  {
   "cell_type": "code",
   "execution_count": 9,
   "metadata": {},
   "outputs": [
    {
     "name": "stdout",
     "output_type": "stream",
     "text": [
      "These are the top 5 artist with most tracks:\n",
      "artist_name\n",
      "Giuseppe Verdi            1394\n",
      "Giacomo Puccini           1137\n",
      "Kimbo Children's Music     971\n",
      "Nobuo Uematsu              825\n",
      "Richard Wagner             804\n",
      "Name: count, dtype: int64\n"
     ]
    }
   ],
   "source": [
    "top_5_artist = df['artist_name'].value_counts().head(5)\n",
    "print(f\"These are the top 5 artist with most tracks:\\n{top_5_artist}\")"
   ]
  },
  {
   "cell_type": "markdown",
   "metadata": {},
   "source": [
    "8. How many unique keys are there?"
   ]
  },
  {
   "cell_type": "code",
   "execution_count": 10,
   "metadata": {},
   "outputs": [
    {
     "name": "stdout",
     "output_type": "stream",
     "text": [
      "14564 unique artist in this dataset.\n",
      " That will be ['Henri Salvador' 'Martin & les fées' 'Joseph Williams' ... 'Dharmasoul'\n",
      " 'Swim' 'Jr Thomas & The Volcanos']\n"
     ]
    }
   ],
   "source": [
    "unique_artist_count = df['artist_name'].nunique()\n",
    "unique_artist = df['artist_name'].unique()\n",
    "print(f\"{unique_artist_count} unique artist in this dataset.\\n That will be {unique_artist}\")"
   ]
  },
  {
   "cell_type": "markdown",
   "metadata": {},
   "source": [
    "9. What is the average danceability of songs in 4/4 time signature?"
   ]
  },
  {
   "cell_type": "code",
   "execution_count": 11,
   "metadata": {},
   "outputs": [
    {
     "name": "stdout",
     "output_type": "stream",
     "text": [
      "Average danceability of songs in 4/4 time signature = 0.5763062587168759\n"
     ]
    }
   ],
   "source": [
    "avg_dan = df.groupby('time_signature')['danceability'].mean().loc['4/4']\n",
    "print(f\"Average danceability of songs in 4/4 time signature = {avg_dan}\")"
   ]
  },
  {
   "cell_type": "markdown",
   "metadata": {},
   "source": [
    "10. What is the distribution of speechiness in acoustic vs. non-acoustic songs?"
   ]
  },
  {
   "cell_type": "code",
   "execution_count": null,
   "metadata": {},
   "outputs": [],
   "source": []
  },
  {
   "cell_type": "markdown",
   "metadata": {},
   "source": [
    "11. What is the average tempo of instrumental songs?"
   ]
  },
  {
   "cell_type": "code",
   "execution_count": 12,
   "metadata": {},
   "outputs": [
    {
     "name": "stdout",
     "output_type": "stream",
     "text": [
      "Average tempo of instrumental songs is : 110.578\n"
     ]
    }
   ],
   "source": [
    "avg_tempo_of_instrumental = df[df['instrumentalness'] > 0.5] ['tempo'].mean()\n",
    "print(f\"Average tempo of instrumental songs is : {round(avg_tempo_of_instrumental,3)}\")"
   ]
  },
  {
   "cell_type": "markdown",
   "metadata": {},
   "source": [
    "12. How many unique time signatures are there?"
   ]
  },
  {
   "cell_type": "code",
   "execution_count": 13,
   "metadata": {},
   "outputs": [
    {
     "name": "stdout",
     "output_type": "stream",
     "text": [
      "There are 5 unique time signatures.\n"
     ]
    }
   ],
   "source": [
    "unique_sign = df['time_signature'].nunique()\n",
    "print(f\"There are {unique_sign} unique time signatures.\")"
   ]
  },
  {
   "cell_type": "markdown",
   "metadata": {},
   "source": [
    "13. What is the relationship between valence and danceability?"
   ]
  },
  {
   "cell_type": "code",
   "execution_count": null,
   "metadata": {},
   "outputs": [],
   "source": []
  },
  {
   "cell_type": "markdown",
   "metadata": {},
   "source": [
    "14. How many tracks have a tempo above 120 but below 140?"
   ]
  },
  {
   "cell_type": "code",
   "execution_count": 14,
   "metadata": {},
   "outputs": [
    {
     "name": "stdout",
     "output_type": "stream",
     "text": [
      "There are 50251 track have tempo above 120 and below 140.\n"
     ]
    }
   ],
   "source": [
    "tempo_above_120_below_140 = df[(df['tempo'] > 120) & (df['tempo'] < 140)].shape[0]\n",
    "print(f\"There are {tempo_above_120_below_140} track have tempo above 120 and below 140.\")"
   ]
  },
  {
   "cell_type": "markdown",
   "metadata": {},
   "source": [
    "15. What is the average popularity of acoustic vs. non-acoustic songs?"
   ]
  },
  {
   "cell_type": "code",
   "execution_count": null,
   "metadata": {},
   "outputs": [],
   "source": []
  },
  {
   "cell_type": "markdown",
   "metadata": {},
   "source": [
    "16. What is the distribution of liveness in different modes?"
   ]
  },
  {
   "cell_type": "code",
   "execution_count": null,
   "metadata": {},
   "outputs": [],
   "source": []
  },
  {
   "cell_type": "markdown",
   "metadata": {},
   "source": [
    "17. How many tracks are there for each time signature?"
   ]
  },
  {
   "cell_type": "code",
   "execution_count": 15,
   "metadata": {},
   "outputs": [
    {
     "name": "stdout",
     "output_type": "stream",
     "text": [
      "Time Signature and its Tracks\n",
      "  time_signature   count\n",
      "0            4/4  200760\n",
      "1            3/4   24111\n",
      "2            5/4    5238\n",
      "3            1/4    2608\n",
      "4            0/4       8\n"
     ]
    }
   ],
   "source": [
    "tracks_sign = df['time_signature'].value_counts().reset_index()\n",
    "print(f\"Time Signature and its Tracks\\n{tracks_sign}\")"
   ]
  },
  {
   "cell_type": "markdown",
   "metadata": {},
   "source": [
    "18. What is the most common key for songs with high valence (valence > 0.8)?"
   ]
  },
  {
   "cell_type": "code",
   "execution_count": 35,
   "metadata": {},
   "outputs": [
    {
     "name": "stdout",
     "output_type": "stream",
     "text": [
      "The most common key for songs with high valence is = C\n"
     ]
    }
   ],
   "source": [
    "cmn_key = df[df['valence'] > 0.8]['key'].mode().loc[0]\n",
    "print(f\"The most common key for songs with high valence is = {cmn_key}\")"
   ]
  },
  {
   "cell_type": "markdown",
   "metadata": {},
   "source": [
    "19. What is the average loudness of songs in major and minor keys?"
   ]
  },
  {
   "cell_type": "code",
   "execution_count": null,
   "metadata": {},
   "outputs": [],
   "source": []
  },
  {
   "cell_type": "markdown",
   "metadata": {},
   "source": [
    "20. What is the distribution of energy in the top 10% most popular songs?"
   ]
  },
  {
   "cell_type": "code",
   "execution_count": null,
   "metadata": {},
   "outputs": [],
   "source": []
  }
 ],
 "metadata": {
  "kernelspec": {
   "display_name": "Python 3",
   "language": "python",
   "name": "python3"
  },
  "language_info": {
   "codemirror_mode": {
    "name": "ipython",
    "version": 3
   },
   "file_extension": ".py",
   "mimetype": "text/x-python",
   "name": "python",
   "nbconvert_exporter": "python",
   "pygments_lexer": "ipython3",
   "version": "3.11.6"
  }
 },
 "nbformat": 4,
 "nbformat_minor": 2
}
